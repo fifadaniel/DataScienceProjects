{
 "cells": [
  {
   "cell_type": "code",
   "execution_count": 116,
   "id": "53ad7d5d",
   "metadata": {},
   "outputs": [
    {
     "name": "stdout",
     "output_type": "stream",
     "text": [
      "<class 'pandas.core.frame.DataFrame'>\n",
      "RangeIndex: 37184 entries, 0 to 37183\n",
      "Data columns (total 19 columns):\n",
      " #   Column        Non-Null Count  Dtype \n",
      "---  ------        --------------  ----- \n",
      " 0   real review?  37184 non-null  int64 \n",
      " 1   category      37184 non-null  object\n",
      " 2   rating        37184 non-null  int64 \n",
      " 3   text_         37184 non-null  object\n",
      " 4   Unnamed: 4    86 non-null     object\n",
      " 5   Unnamed: 5    11 non-null     object\n",
      " 6   Unnamed: 6    5 non-null      object\n",
      " 7   Unnamed: 7    2 non-null      object\n",
      " 8   Unnamed: 8    2 non-null      object\n",
      " 9   Unnamed: 9    2 non-null      object\n",
      " 10  Unnamed: 10   2 non-null      object\n",
      " 11  Unnamed: 11   2 non-null      object\n",
      " 12  Unnamed: 12   2 non-null      object\n",
      " 13  Unnamed: 13   2 non-null      object\n",
      " 14  Unnamed: 14   2 non-null      object\n",
      " 15  Unnamed: 15   2 non-null      object\n",
      " 16  Unnamed: 16   2 non-null      object\n",
      " 17  Unnamed: 17   1 non-null      object\n",
      " 18  Unnamed: 18   1 non-null      object\n",
      "dtypes: int64(2), object(17)\n",
      "memory usage: 5.4+ MB\n"
     ]
    },
    {
     "name": "stderr",
     "output_type": "stream",
     "text": [
      "/opt/anaconda3/lib/python3.8/site-packages/IPython/core/interactiveshell.py:3165: DtypeWarning: Columns (6,7,8,9,10,11,12,13,14,15,16,17,18) have mixed types.Specify dtype option on import or set low_memory=False.\n",
      "  has_raised = await self.run_ast_nodes(code_ast.body, cell_name,\n"
     ]
    }
   ],
   "source": [
    "import argparse\n",
    "import os\n",
    "import sys\n",
    "import pickle\n",
    "import sklearn\n",
    "from sklearn.svm import SVC\n",
    "from sklearn.linear_model import LogisticRegression\n",
    "from sklearn.ensemble import RandomForestClassifier\n",
    "from sklearn.feature_extraction.text import TfidfVectorizer\n",
    "import pandas as pd\n",
    "import numpy as np"
   ]
  },
  {
   "cell_type": "code",
   "execution_count": 110,
   "id": "cce22634",
   "metadata": {},
   "outputs": [],
   "source": [
    "file_train = pd.read_csv(\"Desktop/fake-reviews/reviews_train.csv\", \n",
    "                         usecols=[0,1,2,3],\n",
    "                         dtype={'real review?': float,\n",
    "                                'category': str, \n",
    "                                #'rating': int, \n",
    "                                'text_': str})\n",
    "\n",
    "vectorizer = TfidfVectorizer(max_features=5000)\n",
    "# Transform text data to list of strings\n",
    "corpora = file_train['text_'].astype(str).values.tolist()\n",
    "# Obtain featurizer from data\n",
    "vectorizer.fit(corpora)\n",
    "# Create feature vector\n",
    "X = vectorizer.transform(corpora)\n",
    "X = pd.DataFrame(X.toarray(), columns=vectorizer.get_feature_names())\n",
    "rating = pd.get_dummies(file_train['rating'])\n",
    "category = pd.get_dummies(file_train['category'])\n",
    "df = pd.DataFrame(category)\n",
    "df = df.join(rating)\n",
    "X = X.join(df)"
   ]
  },
  {
   "cell_type": "code",
   "execution_count": 118,
   "id": "979d46e6",
   "metadata": {},
   "outputs": [
    {
     "name": "stdout",
     "output_type": "stream",
     "text": [
      "<class 'pandas.core.frame.DataFrame'>\n",
      "RangeIndex: 37184 entries, 0 to 37183\n",
      "Data columns (total 4 columns):\n",
      " #   Column        Non-Null Count  Dtype  \n",
      "---  ------        --------------  -----  \n",
      " 0   real review?  37184 non-null  float64\n",
      " 1   category      37184 non-null  object \n",
      " 2   rating        37184 non-null  int64  \n",
      " 3   text_         37184 non-null  object \n",
      "dtypes: float64(1), int64(1), object(2)\n",
      "memory usage: 1.1+ MB\n"
     ]
    }
   ],
   "source": [
    "file_train.info()"
   ]
  },
  {
   "cell_type": "code",
   "execution_count": 111,
   "id": "e6804a44",
   "metadata": {},
   "outputs": [
    {
     "data": {
      "text/plain": [
       "0.9328474612736661"
      ]
     },
     "execution_count": 111,
     "metadata": {},
     "output_type": "execute_result"
    }
   ],
   "source": [
    "lr = SVC(kernel='linear')\n",
    "# # You can safely ignore any \"ConvergenceWarning\" warnings\n",
    "\n",
    "# from sklearn.preprocessing import StandardScaler\n",
    "# sc = StandardScaler()\n",
    "# X_sc = sc.fit_transform(X)\n",
    "lr.fit(X, file_train['real review?'])\n",
    "\n",
    "lr.score(X, file_train['real review?'])\n",
    "# Get logistic regression predictions\n",
    "#y_pred = svm.predict_proba(X)\n",
    "\n",
    "# Accuracy of predictions with the true labels and take the percentage\n",
    "# Because our dataset is balanced, measuring just the accuracy is OK\n",
    "#accuracy = (y_pred == file_train['real review?']).sum() / file_train['real review?'].size"
   ]
  },
  {
   "cell_type": "code",
   "execution_count": 112,
   "id": "0c9f5185",
   "metadata": {},
   "outputs": [
    {
     "data": {
      "text/plain": [
       "0.9069069069069069"
      ]
     },
     "execution_count": 112,
     "metadata": {},
     "output_type": "execute_result"
    }
   ],
   "source": [
    "file_validation = pd.read_csv(\"Desktop/fake-reviews/reviews_validation.csv\", \n",
    "                         usecols=[0,1,2,3],\n",
    "                         dtype={'real review?': float,\n",
    "                                'category': str, \n",
    "                                #'rating': int, \n",
    "                                'text_': str})\n",
    "\n",
    "corpora = file_validation['text_'].astype(str).values.tolist()\n",
    "# Use the words obtained in training to encode in testing\n",
    "X = vectorizer.transform(corpora)\n",
    "X = pd.DataFrame(X.toarray(), columns=vectorizer.get_feature_names())\n",
    "rating = pd.get_dummies(file_validation['rating'])\n",
    "category = pd.get_dummies(file_validation['category'])\n",
    "df = pd.DataFrame(category)\n",
    "df = df.join(rating)\n",
    "X = X.join(df)\n",
    "\n",
    "lr.score(X, file_validation['real review?'])\n",
    "# Get logistic regression predictions\n",
    "#y_pred = svm.predict_proba(X)\n",
    "\n",
    "# Accuracy of predictions with the true labels and take the percentage\n",
    "# Because our dataset is balanced, measuring just the accuracy is OK\n",
    "#accuracy = (y_pred == file_train['real review?']).sum() / file_train['real review?'].size\n"
   ]
  },
  {
   "cell_type": "code",
   "execution_count": 80,
   "id": "74e5d23a",
   "metadata": {},
   "outputs": [],
   "source": [
    "#print(y_pred)"
   ]
  },
  {
   "cell_type": "code",
   "execution_count": 113,
   "id": "b96c36d8",
   "metadata": {},
   "outputs": [],
   "source": [
    "file_test = pd.read_csv(\"Desktop/fake-reviews/reviews_test_attributes.csv\",quotechar='\"',usecols=[0,1,2,3],dtype={'real review?': float,'category': str,'text_': str})\n",
    "#'rating': int,\n",
    "# Transform text into list of strigs\n",
    "\n",
    "corpora = file_test['text_'].astype(str).values.tolist()\n",
    "# Use the words obtained in training to encode in testing\n",
    "X = vectorizer.transform(corpora)\n",
    "X = pd.DataFrame(X.toarray(), columns=vectorizer.get_feature_names())\n",
    "rating = pd.get_dummies(file_test['rating'])\n",
    "category = pd.get_dummies(file_test['category'])\n",
    "df = pd.DataFrame(category)\n",
    "df = df.join(rating)\n",
    "X = X.join(df)"
   ]
  },
  {
   "cell_type": "raw",
   "id": "5c91be88",
   "metadata": {},
   "source": []
  },
  {
   "cell_type": "code",
   "execution_count": 114,
   "id": "cd9bb108",
   "metadata": {},
   "outputs": [],
   "source": [
    "y_hat = lr.predict(X)"
   ]
  },
  {
   "cell_type": "code",
   "execution_count": 115,
   "id": "274e18bb",
   "metadata": {},
   "outputs": [
    {
     "name": "stdout",
     "output_type": "stream",
     "text": [
      "        ID  real review?\n",
      "0        0           1.0\n",
      "1        1           1.0\n",
      "2        2           0.0\n",
      "3        3           1.0\n",
      "4        4           1.0\n",
      "...    ...           ...\n",
      "2244  2244           1.0\n",
      "2245  2245           1.0\n",
      "2246  2246           0.0\n",
      "2247  2247           0.0\n",
      "2248  2248           0.0\n",
      "\n",
      "[2249 rows x 2 columns]\n"
     ]
    }
   ],
   "source": [
    "df = pd.DataFrame(y_hat)\n",
    "df = df.reset_index()\n",
    "df.rename(columns={0: 'real review?', 'index':'ID'}, inplace=True)\n",
    "print(df)\n",
    "pd.DataFrame(df).to_csv(\"Desktop/fake-reviews/submission.csv\", index=False) # IS THIS RIGHT"
   ]
  },
  {
   "cell_type": "code",
   "execution_count": null,
   "id": "bc4585a4",
   "metadata": {},
   "outputs": [],
   "source": []
  }
 ],
 "metadata": {
  "kernelspec": {
   "display_name": "Python 3",
   "language": "python",
   "name": "python3"
  },
  "language_info": {
   "codemirror_mode": {
    "name": "ipython",
    "version": 3
   },
   "file_extension": ".py",
   "mimetype": "text/x-python",
   "name": "python",
   "nbconvert_exporter": "python",
   "pygments_lexer": "ipython3",
   "version": "3.8.8"
  }
 },
 "nbformat": 4,
 "nbformat_minor": 5
}
